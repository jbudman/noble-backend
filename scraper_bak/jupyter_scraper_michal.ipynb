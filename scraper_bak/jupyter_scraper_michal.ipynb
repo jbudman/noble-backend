{
 "cells": [
  {
   "cell_type": "code",
   "execution_count": 2,
   "metadata": {},
   "outputs": [],
   "source": [
    "import time\n",
    "import json\n",
    "import re\n",
    "import html\n",
    "import math\n",
    "import os"
   ]
  },
  {
   "cell_type": "markdown",
   "metadata": {},
   "source": [
    "# Scraper Settings"
   ]
  },
  {
   "cell_type": "code",
   "execution_count": 3,
   "metadata": {},
   "outputs": [],
   "source": [
    "userLogin = ''\n",
    "userPwd = ''"
   ]
  },
  {
   "cell_type": "code",
   "execution_count": 4,
   "metadata": {},
   "outputs": [],
   "source": [
    "Interval = 5 #time between switching the page\n",
    "profileId = 'ACwAAA5x2nYB-HnFP_cCjbggW53mECNDfDzYHKA'\n",
    "# profileId = sys.argv[1] #profileID as input parameter\n",
    "\n",
    "searched_json = 'https://www.linkedin.com/sales-api/salesApiLeadSearch?q=searchQuery' #searched object name saved in requests\n"
   ]
  },
  {
   "cell_type": "markdown",
   "metadata": {},
   "source": [
    "# Functions"
   ]
  },
  {
   "cell_type": "code",
   "execution_count": 5,
   "metadata": {},
   "outputs": [],
   "source": [
    "from selenium import webdriver\n",
    "from selenium.webdriver.common.keys import Keys\n",
    "from selenium.webdriver.common.by import By\n",
    "from webdriver_manager.chrome import ChromeDriverManager\n",
    "from selenium.webdriver import DesiredCapabilities #https://gist.github.com/lorey/079c5e178c9c9d3c30ad87df7f70491d\n",
    "import json\n",
    "import random\n",
    "\n",
    "def StartDriver():\n",
    "    #browser settings\n",
    "    caps = webdriver.DesiredCapabilities.CHROME.copy()\n",
    "    options = webdriver.ChromeOptions()\n",
    "    options.add_argument(\"disable-gpu\")\n",
    "\n",
    "    #options.add_argument(\"headless\")\n",
    "    options.add_experimental_option(\"prefs\", {\n",
    "    #\"download.default_directory\": r\"/Volumes/GoogleDrive/My Drive/Notion/\",\n",
    "    \"download.Prompt_for_download\": False,\n",
    "    \"download.directory_upgrade\": True,\n",
    "    \"safebrowsing.enabled\": True\n",
    "    })\n",
    "    options.add_argument(\"no-default-browser-check\")\n",
    "    options.add_argument(\"no-first-run\")\n",
    "    options.add_argument(\"no-sandbox\")      \n",
    "\n",
    "    # make chrome log requests\n",
    "    capabilities = DesiredCapabilities.CHROME\n",
    "    capabilities['goog:loggingPrefs'] = {'performance': 'ALL'}\n",
    "\n",
    "    driver = webdriver.Chrome(ChromeDriverManager().install(), desired_capabilities=capabilities, options=options)\n",
    "    driver.maximize_window()\n",
    "    \n",
    "    global logs_raw\n",
    "    global logs\n",
    "    logs_raw = driver.get_log(\"performance\")\n",
    "    logs = [json.loads(lr[\"message\"])[\"message\"] for lr in logs_raw]\n",
    "    return(driver)"
   ]
  },
  {
   "cell_type": "code",
   "execution_count": 6,
   "metadata": {},
   "outputs": [],
   "source": [
    "def login(driver, login, pwd):    \n",
    "    start_page = 'https://www.linkedin.com/login'\n",
    "\n",
    "    #Open LinkedIn Login Page\n",
    "    driver.get(start_page)\n",
    "    print('Opened page: ' + driver.title)\n",
    "    time.sleep(1)\n",
    "    email_input = driver.find_element(by=By.XPATH, value='//*[@id=\"username\"]')\n",
    "    time.sleep(1)\n",
    "    email_input.send_keys(login)\n",
    "    time.sleep(2)\n",
    "    pass_input = driver.find_element(by=By.XPATH, value='//*[@id=\"password\"]')\n",
    "    pass_input.send_keys(pwd)\n",
    "    pass_input.send_keys(Keys.ENTER)\n",
    "    time.sleep(5)    "
   ]
  },
  {
   "cell_type": "code",
   "execution_count": 7,
   "metadata": {},
   "outputs": [],
   "source": [
    "def GetJson(driver, url, searched_json):\n",
    "    # 3 arguments: active driver, url to scrape, search json\n",
    "    driver.get(connectionPageUrl)\n",
    "    time.sleep(Interval)    \n",
    "\n",
    "    # Filter Json logs\n",
    "    def log_filter(log_):\n",
    "        return (\n",
    "            # is an actual response\n",
    "            log_[\"method\"] == \"Network.responseReceived\"\n",
    "            # and json type only\n",
    "            and \"json\" in log_[\"params\"][\"response\"][\"mimeType\"]\n",
    "        )               \n",
    "\n",
    "    logs_raw = driver.get_log(\"performance\") #get all responses\n",
    "    logs = [json.loads(lr[\"message\"])[\"message\"] for lr in logs_raw] #get message for each response\n",
    "    \n",
    "    # iterate for all json responses from logs\n",
    "    for log in filter(log_filter, logs):\n",
    "        #api response name\n",
    "        response_name = json.dumps(log[\"params\"][\"response\"][\"url\"])\n",
    "#         print(response_name)\n",
    "        \n",
    "        #if search_json name is equal to current json response name then get the response body\n",
    "        if searched_json in response_name:\n",
    "            request_id = log[\"params\"][\"requestId\"]\n",
    "            json_code = (driver.execute_cdp_cmd(\"Network.getResponseBody\", {\"requestId\": request_id}))['body']\n",
    "            json_code_loaded = json.loads(json_code) # załaduj jsona \n",
    "            json_code_parsed = json.dumps(json_code_loaded) # dump jsona aby pozbyć się pojedynczyć \"'\"\n",
    "            response = html.unescape(json_code_parsed) # escape znaków htmlowych typu &amp;           \n",
    "            \n",
    "            \n",
    "            return(response)"
   ]
  },
  {
   "cell_type": "markdown",
   "metadata": {},
   "source": [
    "# Scraping part"
   ]
  },
  {
   "cell_type": "code",
   "execution_count": 12,
   "metadata": {
    "scrolled": true
   },
   "outputs": [
    {
     "name": "stderr",
     "output_type": "stream",
     "text": [
      "[WDM] - Current google-chrome version is 99.0.4844\n",
      "[WDM] - Get LATEST driver version for 99.0.4844\n",
      "[WDM] - Driver [/home/budmanz/.wdm/drivers/chromedriver/linux64/99.0.4844.51/chromedriver] found in cache\n"
     ]
    },
    {
     "name": "stdout",
     "output_type": "stream",
     "text": [
      " \n"
     ]
    }
   ],
   "source": [
    "# Run the Chrome Browser\n",
    "driver = StartDriver()"
   ]
  },
  {
   "cell_type": "code",
   "execution_count": 8,
   "metadata": {},
   "outputs": [
    {
     "name": "stdout",
     "output_type": "stream",
     "text": [
      "Opened page: LinkedIn Login, Sign in | LinkedIn\n"
     ]
    }
   ],
   "source": [
    "# Login to Linkedin.com\n",
    "login(driver, userLogin, userPwd)"
   ]
  },
  {
   "cell_type": "code",
   "execution_count": 9,
   "metadata": {},
   "outputs": [
    {
     "name": "stdout",
     "output_type": "stream",
     "text": [
      "https://www.linkedin.com/sales/search/people?query=(recentSearchParam%3A(doLogHistory%3Atrue)%2Cfilters%3AList((type%3ACONNECTION_OF%2Cvalues%3AList((id%3AACwAAA5x2nYB-HnFP_cCjbggW53mECNDfDzYHKA%2CselectionType%3AINCLUDED)))))&page=1\n"
     ]
    }
   ],
   "source": [
    "pageNumber = 1 #start from page 1\n",
    "connectionPageRootUrl = 'https://www.linkedin.com/sales/search/people?query=(recentSearchParam%3A(doLogHistory%3Atrue)%2Cfilters%3AList((type%3ACONNECTION_OF%2Cvalues%3AList((id%3A' + profileId +  '%2CselectionType%3AINCLUDED)))))&page='\n",
    "connectionPageUrl = connectionPageRootUrl + str(pageNumber)\n",
    "print(connectionPageUrl)"
   ]
  },
  {
   "cell_type": "code",
   "execution_count": 10,
   "metadata": {},
   "outputs": [
    {
     "name": "stdout",
     "output_type": "stream",
     "text": [
      "write() argument must be str, not None\n"
     ]
    }
   ],
   "source": [
    "# for each page get the json saved in requests\n",
    "try:\n",
    "    json_code = GetJson(driver, connectionPageUrl, searched_json)\n",
    "    file_name = str(profileId) + '__page' + str(pageNumber) + '.json'\n",
    "#     print(json_code)\n",
    "    with open(file_name, 'w') as outfile:\n",
    "        outfile.write(json_code)\n",
    "    \n",
    "    \n",
    "    totalResults = re.sub('\\D', '', json.loads(json_code)['metadata']['totalDisplayCount'])\n",
    "    numOfPages = math.ceil(int(totalResults)/25) #dividate number of connection per 25 connection per page\n",
    "\n",
    "    #pagination\n",
    "    while pageNumber < numOfPages:\n",
    "        pageNumber += 1\n",
    "        connectionPageUrl = connectionPageRootUrl + str(pageNumber) \n",
    "\n",
    "        #Continue looping when error occur for a page\n",
    "        try:\n",
    "            json_code = GetJson(driver, connectionPageUrl, searched_json)\n",
    "            file_name = str(profileId) + '__page' + str(pageNumber) + '.json'\n",
    "#             print(json_code)\n",
    "            with open(file_name, 'w') as outfile:\n",
    "                outfile.write(json_code)        \n",
    "        except Exception as error:\n",
    "            print(error)\n",
    "        \n",
    "except Exception as error:\n",
    "    print(error)\n"
   ]
  },
  {
   "cell_type": "markdown",
   "metadata": {},
   "source": [
    "# Merging jsons"
   ]
  },
  {
   "cell_type": "code",
   "execution_count": 11,
   "metadata": {},
   "outputs": [
    {
     "ename": "FileNotFoundError",
     "evalue": "[Errno 2] No such file or directory: '/Users/michalpietrawski/Library/CloudStorage/OneDrive-Personal/GitHub/python-scripts/jupiter_notebook/Noble/'",
     "output_type": "error",
     "traceback": [
      "\u001b[0;31m---------------------------------------------------------------------------\u001b[0m",
      "\u001b[0;31mFileNotFoundError\u001b[0m                         Traceback (most recent call last)",
      "\u001b[0;32m<ipython-input-11-1d51c6d31fbc>\u001b[0m in \u001b[0;36m<module>\u001b[0;34m\u001b[0m\n\u001b[1;32m      1\u001b[0m \u001b[0;32mimport\u001b[0m \u001b[0mos\u001b[0m\u001b[0;34m\u001b[0m\u001b[0;34m\u001b[0m\u001b[0m\n\u001b[1;32m      2\u001b[0m \u001b[0mfinal_data\u001b[0m \u001b[0;34m=\u001b[0m \u001b[0;34m{\u001b[0m\u001b[0;34m}\u001b[0m\u001b[0;34m\u001b[0m\u001b[0;34m\u001b[0m\u001b[0m\n\u001b[0;32m----> 3\u001b[0;31m \u001b[0;32mfor\u001b[0m \u001b[0mfile\u001b[0m \u001b[0;32min\u001b[0m \u001b[0mos\u001b[0m\u001b[0;34m.\u001b[0m\u001b[0mlistdir\u001b[0m\u001b[0;34m(\u001b[0m\u001b[0;34m'/Users/michalpietrawski/Library/CloudStorage/OneDrive-Personal/GitHub/python-scripts/jupiter_notebook/Noble/'\u001b[0m\u001b[0;34m)\u001b[0m\u001b[0;34m:\u001b[0m\u001b[0;34m\u001b[0m\u001b[0;34m\u001b[0m\u001b[0m\n\u001b[0m\u001b[1;32m      4\u001b[0m     \u001b[0;32mif\u001b[0m \u001b[0mfile\u001b[0m\u001b[0;34m.\u001b[0m\u001b[0mstartswith\u001b[0m\u001b[0;34m(\u001b[0m\u001b[0mprofileId\u001b[0m\u001b[0;34m)\u001b[0m \u001b[0;32mand\u001b[0m \u001b[0mfile\u001b[0m\u001b[0;34m.\u001b[0m\u001b[0mendswith\u001b[0m\u001b[0;34m(\u001b[0m\u001b[0;34m'.json'\u001b[0m\u001b[0;34m)\u001b[0m\u001b[0;34m:\u001b[0m\u001b[0;34m\u001b[0m\u001b[0;34m\u001b[0m\u001b[0m\n\u001b[1;32m      5\u001b[0m         \u001b[0;32mtry\u001b[0m\u001b[0;34m:\u001b[0m\u001b[0;34m\u001b[0m\u001b[0;34m\u001b[0m\u001b[0m\n",
      "\u001b[0;31mFileNotFoundError\u001b[0m: [Errno 2] No such file or directory: '/Users/michalpietrawski/Library/CloudStorage/OneDrive-Personal/GitHub/python-scripts/jupiter_notebook/Noble/'"
     ]
    }
   ],
   "source": [
    "import os\n",
    "final_data = {}\n",
    "for file in os.listdir('/Users/michalpietrawski/Library/CloudStorage/OneDrive-Personal/GitHub/python-scripts/jupiter_notebook/Noble/'):\n",
    "    if file.startswith(profileId) and file.endswith('.json'):\n",
    "        try:\n",
    "            with open(file) as f:\n",
    "#                 print(file)\n",
    "                data = json.load(f)\n",
    "            final_data[file] = data\n",
    "        except Exception as error:\n",
    "            print(error)\n",
    "\n",
    "final_data_json = json.dumps(final_data, sort_keys=True) #indent=2\n",
    "with open(profileId + '.json', 'w') as outfile:\n",
    "    outfile.write(final_data_json)  \n",
    "    "
   ]
  },
  {
   "cell_type": "code",
   "execution_count": null,
   "metadata": {},
   "outputs": [],
   "source": [
    "driver.quit()"
   ]
  },
  {
   "cell_type": "code",
   "execution_count": null,
   "metadata": {},
   "outputs": [],
   "source": []
  }
 ],
 "metadata": {
  "interpreter": {
   "hash": "aee8b7b246df8f9039afb4144a1f6fd8d2ca17a180786b69acc140d282b71a49"
  },
  "kernelspec": {
   "display_name": "Python 3",
   "language": "python",
   "name": "python3"
  },
  "language_info": {
   "codemirror_mode": {
    "name": "ipython",
    "version": 3
   },
   "file_extension": ".py",
   "mimetype": "text/x-python",
   "name": "python",
   "nbconvert_exporter": "python",
   "pygments_lexer": "ipython3",
   "version": "3.7.6"
  }
 },
 "nbformat": 4,
 "nbformat_minor": 5
}
